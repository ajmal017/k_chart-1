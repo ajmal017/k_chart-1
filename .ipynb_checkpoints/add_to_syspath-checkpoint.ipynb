{
 "cells": [
  {
   "cell_type": "code",
   "execution_count": 1,
   "metadata": {},
   "outputs": [],
   "source": [
    "import sys"
   ]
  },
  {
   "cell_type": "code",
   "execution_count": 4,
   "metadata": {},
   "outputs": [
    {
     "data": {
      "text/plain": [
       "['',\n",
       " 'C:\\\\Program Files\\\\NVIDIA GPU Computing Toolkit\\\\CUDA\\\\v8.0\\\\lib\\\\x64',\n",
       " 'C:\\\\Program Files\\\\NVIDIA GPU Computing Toolkit\\\\CUDA\\\\v8.0\\\\include',\n",
       " 'C:\\\\Program Files\\\\NVIDIA GPU Computing Toolkit\\\\CUDA\\\\v8.0',\n",
       " 'C:\\\\Users\\\\E\\\\AppData\\\\Local\\\\conda\\\\conda\\\\envs\\\\Machine_Learning\\\\python36.zip',\n",
       " 'C:\\\\Users\\\\E\\\\AppData\\\\Local\\\\conda\\\\conda\\\\envs\\\\Machine_Learning\\\\DLLs',\n",
       " 'C:\\\\Users\\\\E\\\\AppData\\\\Local\\\\conda\\\\conda\\\\envs\\\\Machine_Learning\\\\lib',\n",
       " 'C:\\\\Users\\\\E\\\\AppData\\\\Local\\\\conda\\\\conda\\\\envs\\\\Machine_Learning',\n",
       " 'C:\\\\Users\\\\E\\\\AppData\\\\Local\\\\conda\\\\conda\\\\envs\\\\Machine_Learning\\\\lib\\\\site-packages',\n",
       " 'C:\\\\Users\\\\E\\\\AppData\\\\Local\\\\conda\\\\conda\\\\envs\\\\Machine_Learning\\\\lib\\\\site-packages\\\\IPython\\\\extensions',\n",
       " 'C:\\\\Users\\\\E\\\\.ipython',\n",
       " 'C:\\\\Users\\\\E\\\\Documents\\\\sharedfolder\\\\k_chart']"
      ]
     },
     "execution_count": 4,
     "metadata": {},
     "output_type": "execute_result"
    }
   ],
   "source": [
    "sys.path"
   ]
  },
  {
   "cell_type": "code",
   "execution_count": 3,
   "metadata": {},
   "outputs": [],
   "source": [
    "package_path = 'C:\\\\Users\\\\E\\\\Documents\\\\sharedfolder\\\\k_chart'\n",
    "if package_path not in sys.path:\n",
    "    sys.path.append(package_path)"
   ]
  },
  {
   "cell_type": "code",
   "execution_count": 12,
   "metadata": {},
   "outputs": [],
   "source": [
    "# Remove if wrong\n",
    "sys.path[-1]=None"
   ]
  },
  {
   "cell_type": "code",
   "execution_count": 17,
   "metadata": {},
   "outputs": [],
   "source": [
    "sys.path.remove(None)"
   ]
  },
  {
   "cell_type": "code",
   "execution_count": null,
   "metadata": {},
   "outputs": [],
   "source": []
  }
 ],
 "metadata": {
  "kernelspec": {
   "display_name": "Python 3",
   "language": "python",
   "name": "python3"
  },
  "language_info": {
   "codemirror_mode": {
    "name": "ipython",
    "version": 3
   },
   "file_extension": ".py",
   "mimetype": "text/x-python",
   "name": "python",
   "nbconvert_exporter": "python",
   "pygments_lexer": "ipython3",
   "version": "3.6.3"
  }
 },
 "nbformat": 4,
 "nbformat_minor": 2
}
