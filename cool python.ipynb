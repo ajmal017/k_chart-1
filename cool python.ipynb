{
 "cells": [
  {
   "cell_type": "code",
   "execution_count": 1,
   "metadata": {},
   "outputs": [],
   "source": [
    "# lambda\n",
    "# lambda arguments: expression"
   ]
  },
  {
   "cell_type": "code",
   "execution_count": 2,
   "metadata": {},
   "outputs": [
    {
     "name": "stdout",
     "output_type": "stream",
     "text": [
      "10\n"
     ]
    }
   ],
   "source": [
    "double = lambda x: x * 2\n",
    "print(double(5))"
   ]
  },
  {
   "cell_type": "code",
   "execution_count": 6,
   "metadata": {},
   "outputs": [
    {
     "name": "stdout",
     "output_type": "stream",
     "text": [
      "15\n"
     ]
    }
   ],
   "source": [
    "multiply = lambda x,y: x*y\n",
    "print(multiply(3,5))"
   ]
  },
  {
   "cell_type": "code",
   "execution_count": 8,
   "metadata": {},
   "outputs": [],
   "source": [
    "# filter\n",
    "# The filter() function in Python takes in a function and a list as arguments.\n",
    "# The function is called with all the items in the list and a new list is returned which contains items for which the function evaluats to True."
   ]
  },
  {
   "cell_type": "code",
   "execution_count": 5,
   "metadata": {},
   "outputs": [
    {
     "name": "stdout",
     "output_type": "stream",
     "text": [
      "[2, 4, 6, 8]\n"
     ]
    }
   ],
   "source": [
    "myList = [1,2,3,4,5,6,7,8]\n",
    "oList = list(filter(lambda x: x%2==0, myList))\n",
    "print(oList)"
   ]
  },
  {
   "cell_type": "code",
   "execution_count": 192,
   "metadata": {},
   "outputs": [
    {
     "name": "stdout",
     "output_type": "stream",
     "text": [
      "[2, 6, 7]\n",
      "[3, 5, 7]\n",
      "[4, 5, 6]\n",
      "[1, 2, 5, 7]\n",
      "[1, 3, 4, 7]\n",
      "[1, 3, 5, 6]\n",
      "[2, 3, 4, 6]\n",
      "[1, 2, 3, 4, 5]\n"
     ]
    }
   ],
   "source": [
    "from itertools import combinations\n",
    "n = 7\n",
    "s = 15\n",
    "for l in list(map(list, combinations([_i for _i in range(1, n+1)], i)) for i in range(2, n+1)):\n",
    "    for ls in l:\n",
    "        if sum(ls) == s:\n",
    "            print(ls)"
   ]
  },
  {
   "cell_type": "code",
   "execution_count": 193,
   "metadata": {},
   "outputs": [
    {
     "name": "stdout",
     "output_type": "stream",
     "text": [
      "[]\n",
      "[[2, 6, 7], [3, 5, 7], [4, 5, 6]]\n",
      "[[1, 2, 5, 7], [1, 3, 4, 7], [1, 3, 5, 6], [2, 3, 4, 6]]\n",
      "[[1, 2, 3, 4, 5]]\n",
      "[]\n",
      "[]\n"
     ]
    }
   ],
   "source": [
    "from itertools import combinations\n",
    "n = 7\n",
    "s = 15\n",
    "for l in list(map(list, combinations([_i for _i in range(1, n+1)], i)) for i in range(2, n+1)):\n",
    "    print(list(filter(lambda x: sum(x)==s, l)))"
   ]
  },
  {
   "cell_type": "code",
   "execution_count": 25,
   "metadata": {},
   "outputs": [
    {
     "name": "stdout",
     "output_type": "stream",
     "text": [
      "[]\n",
      "[(2, 6, 7), (3, 5, 7), (4, 5, 6)]\n",
      "[(1, 2, 5, 7), (1, 3, 4, 7), (1, 3, 5, 6), (2, 3, 4, 6)]\n",
      "[(1, 2, 3, 4, 5)]\n",
      "[]\n",
      "[]\n"
     ]
    }
   ],
   "source": [
    "from itertools import combinations, chain\n",
    "n = 7\n",
    "s = 15\n",
    "for l in [filter(lambda x: sum(x)==s, combinations([_i for _i in range(1, n+1)], i)) for i in range(2, n+1)]:\n",
    "    print(list(l))"
   ]
  },
  {
   "cell_type": "code",
   "execution_count": 42,
   "metadata": {},
   "outputs": [
    {
     "name": "stdout",
     "output_type": "stream",
     "text": [
      "(2, 6, 7)\n",
      "(3, 5, 7)\n",
      "(4, 5, 6)\n",
      "(1, 2, 5, 7)\n",
      "(1, 3, 4, 7)\n",
      "(1, 3, 5, 6)\n",
      "(2, 3, 4, 6)\n",
      "(1, 2, 3, 4, 5)\n"
     ]
    }
   ],
   "source": [
    "from itertools import combinations, chain\n",
    "n = 7\n",
    "s = 15\n",
    "for ls in chain(*[filter(lambda x: sum(x)==s, combinations([_i for _i in range(1, n+1)], i)) for i in range(2, n+1)]):\n",
    "    print(ls)"
   ]
  },
  {
   "cell_type": "code",
   "execution_count": 47,
   "metadata": {},
   "outputs": [
    {
     "name": "stdout",
     "output_type": "stream",
     "text": [
      "[(2, 6, 7), (3, 5, 7), (4, 5, 6), (1, 2, 5, 7), (1, 3, 4, 7), (1, 3, 5, 6), (2, 3, 4, 6), (1, 2, 3, 4, 5)]\n"
     ]
    }
   ],
   "source": [
    "from itertools import combinations, chain\n",
    "n = 7; s = 15\n",
    "print(list(chain(*[filter(lambda x: sum(x)==s, combinations([_i for _i in range(1, n+1)], i)) for i in range(2, n+1)])))"
   ]
  },
  {
   "cell_type": "code",
   "execution_count": 7,
   "metadata": {},
   "outputs": [],
   "source": [
    "# map`a\n",
    "# The map() function in Python takes in a function and a list.\n",
    "# The function is called with all the items in the list and a new list is returned which contains items returned by that function for each item."
   ]
  },
  {
   "cell_type": "code",
   "execution_count": 9,
   "metadata": {},
   "outputs": [
    {
     "name": "stdout",
     "output_type": "stream",
     "text": [
      "[2, 4, 6, 8, 10, 12, 14, 16]\n"
     ]
    }
   ],
   "source": [
    "myList = [1,2,3,4,5,6,7,8]\n",
    "oList = list(map(lambda x: x*2, myList))\n",
    "print(oList)"
   ]
  },
  {
   "cell_type": "code",
   "execution_count": 10,
   "metadata": {},
   "outputs": [],
   "source": [
    "# List and Dict Comprehension\n",
    "# List comprehension consists of an expression followed by for statement inside square brackets.\n",
    "# Dictionary comprehension consists of an expression pair (key: value) followed by for statement inside curly braces {}."
   ]
  },
  {
   "cell_type": "code",
   "execution_count": 13,
   "metadata": {},
   "outputs": [
    {
     "name": "stdout",
     "output_type": "stream",
     "text": [
      "[0, 1, 4, 9, 16, 25, 36, 49, 64, 81]\n",
      "{0: 0, 1: 1, 2: 4, 3: 9, 4: 16, 5: 25, 6: 36, 7: 49, 8: 64, 9: 81}\n"
     ]
    }
   ],
   "source": [
    "pow2 = [x*x for x in range(10)]\n",
    "print(pow2)\n",
    "pow2 = {x: x*x for x in range(10)}\n",
    "print(pow2)"
   ]
  },
  {
   "cell_type": "code",
   "execution_count": 20,
   "metadata": {},
   "outputs": [],
   "source": [
    "# except handling"
   ]
  },
  {
   "cell_type": "code",
   "execution_count": 24,
   "metadata": {},
   "outputs": [
    {
     "name": "stdout",
     "output_type": "stream",
     "text": [
      "2.0\n",
      "1.0\n",
      "0.6666666666666666\n",
      "0.5\n",
      "0.4\n",
      "0.3333333333333333\n"
     ]
    }
   ],
   "source": [
    "myList = [1,2,3,0,4,5,6]\n",
    "div = lambda x: 2/x\n",
    "for l in myList:\n",
    "    try:\n",
    "        print(div(l))\n",
    "    except (TypeError, ZeroDivisionError):\n",
    "        pass"
   ]
  },
  {
   "cell_type": "code",
   "execution_count": 54,
   "metadata": {},
   "outputs": [],
   "source": [
    "# iterator\n",
    "# Iterator in Python is simply an object that can be iterated upon. An object which will return data, one element at a time."
   ]
  },
  {
   "cell_type": "code",
   "execution_count": 60,
   "metadata": {},
   "outputs": [],
   "source": [
    "myList = [1,2,3,4,5,6,7,8]\n",
    "myIter = iter(myList)"
   ]
  },
  {
   "cell_type": "code",
   "execution_count": 61,
   "metadata": {},
   "outputs": [
    {
     "name": "stdout",
     "output_type": "stream",
     "text": [
      "1\n"
     ]
    }
   ],
   "source": [
    "print(next(myIter))"
   ]
  },
  {
   "cell_type": "code",
   "execution_count": 25,
   "metadata": {},
   "outputs": [],
   "source": [
    "# generator\n",
    "# a generator is a function that returns an object (iterator) which we can iterate over (one value at a time).\n",
    "# Simple generators can be easily created on the fly using generator expressions. It makes building generators easy."
   ]
  },
  {
   "cell_type": "code",
   "execution_count": 62,
   "metadata": {},
   "outputs": [],
   "source": [
    "myList = [1,2,3,4,5,6,7,8]\n",
    "myGen = (x*2 for x in myList)"
   ]
  },
  {
   "cell_type": "code",
   "execution_count": 38,
   "metadata": {},
   "outputs": [
    {
     "name": "stdout",
     "output_type": "stream",
     "text": [
      "<generator object <genexpr> at 0x000001D856524FC0>\n",
      "6\n",
      "8\n"
     ]
    }
   ],
   "source": [
    "print(myGen)\n",
    "print(next(myGen));print(next(myGen))"
   ]
  },
  {
   "cell_type": "code",
   "execution_count": 41,
   "metadata": {},
   "outputs": [
    {
     "data": {
      "text/plain": [
       "72"
      ]
     },
     "execution_count": 41,
     "metadata": {},
     "output_type": "execute_result"
    }
   ],
   "source": [
    "sum(x*2 for x in myList)"
   ]
  },
  {
   "cell_type": "code",
   "execution_count": 65,
   "metadata": {},
   "outputs": [
    {
     "name": "stdout",
     "output_type": "stream",
     "text": [
      "1\n",
      "2\n",
      "3\n",
      "4\n",
      "5\n",
      "6\n",
      "7\n",
      "8\n",
      "----------\n",
      "2\n",
      "4\n",
      "6\n",
      "8\n",
      "10\n",
      "12\n",
      "14\n",
      "16\n"
     ]
    }
   ],
   "source": [
    "myList = [1,2,3,4,5,6,7,8]\n",
    "myIter = iter(myList)\n",
    "myGen = (x*2 for x in myList)\n",
    "for i in myIter:\n",
    "    print(i)\n",
    "print('-'*10)\n",
    "for g in myGen:\n",
    "    print(g)"
   ]
  },
  {
   "cell_type": "code",
   "execution_count": 43,
   "metadata": {},
   "outputs": [],
   "source": [
    "# decorator\n",
    "# a decorator takes in a function, adds some functionality and returns it."
   ]
  },
  {
   "cell_type": "code",
   "execution_count": 1,
   "metadata": {},
   "outputs": [],
   "source": [
    "def strategy(func):\n",
    "    def func_wrapper(*args, **kwargs):\n",
    "        func(*args, **kwargs)\n",
    "        return func\n",
    "    return func_wrapper"
   ]
  },
  {
   "cell_type": "code",
   "execution_count": 2,
   "metadata": {},
   "outputs": [],
   "source": [
    "@strategy\n",
    "def printer(msg):\n",
    "    print(msg)"
   ]
  },
  {
   "cell_type": "code",
   "execution_count": 3,
   "metadata": {},
   "outputs": [
    {
     "name": "stdout",
     "output_type": "stream",
     "text": [
      "hello\n"
     ]
    },
    {
     "data": {
      "text/plain": [
       "<function __main__.printer(msg)>"
      ]
     },
     "execution_count": 3,
     "metadata": {},
     "output_type": "execute_result"
    }
   ],
   "source": [
    "printer('hello')"
   ]
  },
  {
   "cell_type": "code",
   "execution_count": 4,
   "metadata": {},
   "outputs": [],
   "source": [
    "# property decorator\n",
    "# @property decorator is a built-in decorator in Python for the property() function. \n",
    "# The property() method takes the get, set and delete methods as arguments and returns an object of the property class. \n",
    "# prop=property(getter, setter, deleter, docstring) "
   ]
  },
  {
   "cell_type": "code",
   "execution_count": 15,
   "metadata": {},
   "outputs": [],
   "source": [
    "@property\n",
    "def foo(self): return self._foo"
   ]
  },
  {
   "cell_type": "code",
   "execution_count": 17,
   "metadata": {},
   "outputs": [],
   "source": [
    "def foo(self): return self._foo\n",
    "foo = property(foo)"
   ]
  },
  {
   "cell_type": "code",
   "execution_count": null,
   "metadata": {},
   "outputs": [],
   "source": []
  }
 ],
 "metadata": {
  "kernelspec": {
   "display_name": "Python 3",
   "language": "python",
   "name": "python3"
  },
  "language_info": {
   "codemirror_mode": {
    "name": "ipython",
    "version": 3
   },
   "file_extension": ".py",
   "mimetype": "text/x-python",
   "name": "python",
   "nbconvert_exporter": "python",
   "pygments_lexer": "ipython3",
   "version": "3.6.7"
  }
 },
 "nbformat": 4,
 "nbformat_minor": 2
}
